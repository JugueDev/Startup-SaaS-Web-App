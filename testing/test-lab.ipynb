{
 "cells": [
  {
   "cell_type": "code",
   "execution_count": 3,
   "metadata": {},
   "outputs": [],
   "source": [
    "import requests\n",
    "import json"
   ]
  },
  {
   "cell_type": "code",
   "execution_count": 7,
   "metadata": {},
   "outputs": [
    {
     "name": "stdout",
     "output_type": "stream",
     "text": [
      "{\"commentId\": \"5fdf38cd-6330-4829-824c-a06cce61c0d7\", \"platform\": \"Instagram\", \"userName\": \"Pepito\"}\n",
      "{\"commentId\": \"f57fd5a4-4845-4055-a963-0d44fe5e39cd\", \"platform\": \"Youtube\", \"userName\": \"Maria\"}\n",
      "{\"commentId\": \"1888cf6d-4dcc-43cb-b3f3-6ee176bbe8db\", \"platform\": \"Facebook\", \"userName\": \"Alex\"}\n",
      "{\"commentId\": \"fe7c24b1-1177-423d-8773-afa6594f99ed\", \"platform\": \"Twitter\", \"userName\": \"Teresa\"}\n"
     ]
    }
   ],
   "source": [
    "# Testing POST\n",
    "headers = {'Content-Type' : 'application/json'}\n",
    "url =  \"https://<api-id>.execute-api.<region>.amazonaws.com/prod/api/comment\"\n",
    "\n",
    "comments = [\n",
    "    '{\"userName\": \"Pepito\", \"platform\": \"Instagram\"}',\n",
    "    '{\"userName\": \"Maria\", \"platform\": \"Youtube\"}',\n",
    "    '{\"userName\": \"Alex\", \"platform\": \"Facebook\"}',\n",
    "    '{\"userName\": \"Teresa\", \"platform\": \"Twitter\"}',\n",
    "]\n",
    "for comment in comments:\n",
    "    r = requests.post(url, data=comment, headers=headers)   \n",
    "    print(r.text)\n"
   ]
  },
  {
   "cell_type": "code",
   "execution_count": null,
   "metadata": {},
   "outputs": [],
   "source": [
    "user_id = json.loads(r.text)[\"commentId\"]\n"
   ]
  }
 ],
 "metadata": {
  "kernelspec": {
   "display_name": "Python 3",
   "language": "python",
   "name": "python3"
  },
  "language_info": {
   "codemirror_mode": {
    "name": "ipython",
    "version": 3
   },
   "file_extension": ".py",
   "mimetype": "text/x-python",
   "name": "python",
   "nbconvert_exporter": "python",
   "pygments_lexer": "ipython3",
   "version": "3.9.13"
  },
  "orig_nbformat": 4
 },
 "nbformat": 4,
 "nbformat_minor": 2
}
